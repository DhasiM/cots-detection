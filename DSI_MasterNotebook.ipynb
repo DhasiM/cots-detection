{
  "nbformat": 4,
  "nbformat_minor": 0,
  "metadata": {
    "colab": {
      "name": "DSI MasterNotebook.ipynb",
      "provenance": [],
      "toc_visible": true,
      "authorship_tag": "ABX9TyP8SRcTfhobmKivwsDAXmod",
      "include_colab_link": true
    },
    "kernelspec": {
      "name": "python3",
      "display_name": "Python 3"
    },
    "language_info": {
      "name": "python"
    }
  },
  "cells": [
    {
      "cell_type": "markdown",
      "metadata": {
        "id": "view-in-github",
        "colab_type": "text"
      },
      "source": [
        "<a href=\"https://colab.research.google.com/github/DhasiM/cots-detection/blob/main/DSI_MasterNotebook.ipynb\" target=\"_parent\"><img src=\"https://colab.research.google.com/assets/colab-badge.svg\" alt=\"Open In Colab\"/></a>"
      ]
    },
    {
      "cell_type": "markdown",
      "source": [
        "# **Project Goal And Description**\n",
        "\n",
        "The aim of this project is to build a covolutional neural network model that helps to accurately identify starfish in real-time. The dataset used comes from underwater videos of the Australia's Great Barrier Reef which is inhabited by a huge variety of different species. In the project, the team applies several algorithms such as the YOLOv5 to train a model that is able to detect the target image of a start fish as accurately as possible."
      ],
      "metadata": {
        "id": "rufWSpHyDO5F"
      }
    },
    {
      "cell_type": "markdown",
      "source": [
        "# Exploratory Data Analysis\n",
        "\n",
        "Here, the team tries to take a look at the features of the data. This is to have an overview of the input that we are using for the model and derive any possible modifications we may be able to apply to get better predictions."
      ],
      "metadata": {
        "id": "Jf_cc2IULlsF"
      }
    },
    {
      "cell_type": "code",
      "source": [
        "from google.colab import drive #importing drive to access the data\n",
        "drive.mount('/content/gdrive') # mounting my drive"
      ],
      "metadata": {
        "colab": {
          "base_uri": "https://localhost:8080/"
        },
        "id": "w_diXcnyOYe4",
        "outputId": "1f2b4aed-dbda-443e-f269-3c4e3a3398da"
      },
      "execution_count": 1,
      "outputs": [
        {
          "output_type": "stream",
          "name": "stdout",
          "text": [
            "Mounted at /content/gdrive\n"
          ]
        }
      ]
    },
    {
      "cell_type": "code",
      "source": [
        "!ls gdrive/MyDrive/tensorflow-great-barrier-reef"
      ],
      "metadata": {
        "colab": {
          "base_uri": "https://localhost:8080/"
        },
        "id": "frDofVXLOouc",
        "outputId": "161d39c1-5ed6-431d-c446-749d9a55d58b"
      },
      "execution_count": 3,
      "outputs": [
        {
          "output_type": "stream",
          "name": "stdout",
          "text": [
            "example_sample_submission.csv  greatbarrierreef  train.csv\n",
            "example_test.npy\t       test.csv\t\t train_images\n"
          ]
        }
      ]
    },
    {
      "cell_type": "code",
      "source": [
        "!ls gdrive/MyDrive/tensorflow-great-barrier-reef/train_images"
      ],
      "metadata": {
        "colab": {
          "base_uri": "https://localhost:8080/"
        },
        "id": "wCQWcN0JO0ZB",
        "outputId": "0618438b-0648-44b3-d80b-67d60de1a6a9"
      },
      "execution_count": 4,
      "outputs": [
        {
          "output_type": "stream",
          "name": "stdout",
          "text": [
            "video_0  video_1  video_2\n"
          ]
        }
      ]
    },
    {
      "cell_type": "code",
      "source": [
        "image_folder = 'gdrive/MyDrive/tensorflow-great-barrier-reef/train_images/video_1'"
      ],
      "metadata": {
        "id": "VFVpkt4MUQqG"
      },
      "execution_count": 5,
      "outputs": []
    },
    {
      "cell_type": "code",
      "source": [
        "# loading the data\n",
        "\n",
        "import pandas as pd\n",
        "\n",
        "DATA_PATH = 'gdrive/MyDrive/tensorflow-great-barrier-reef/'\n",
        "train = pd.read_csv(DATA_PATH + 'train.csv')\n",
        "train.head()"
      ],
      "metadata": {
        "colab": {
          "base_uri": "https://localhost:8080/",
          "height": 206
        },
        "id": "7Ru-xMYtUVQX",
        "outputId": "dc5d2fb2-4471-46dd-e791-ac4ac2239241"
      },
      "execution_count": 7,
      "outputs": [
        {
          "output_type": "execute_result",
          "data": {
            "text/html": [
              "\n",
              "  <div id=\"df-f9926984-44a9-473f-852a-053760986fad\">\n",
              "    <div class=\"colab-df-container\">\n",
              "      <div>\n",
              "<style scoped>\n",
              "    .dataframe tbody tr th:only-of-type {\n",
              "        vertical-align: middle;\n",
              "    }\n",
              "\n",
              "    .dataframe tbody tr th {\n",
              "        vertical-align: top;\n",
              "    }\n",
              "\n",
              "    .dataframe thead th {\n",
              "        text-align: right;\n",
              "    }\n",
              "</style>\n",
              "<table border=\"1\" class=\"dataframe\">\n",
              "  <thead>\n",
              "    <tr style=\"text-align: right;\">\n",
              "      <th></th>\n",
              "      <th>video_id</th>\n",
              "      <th>sequence</th>\n",
              "      <th>video_frame</th>\n",
              "      <th>sequence_frame</th>\n",
              "      <th>image_id</th>\n",
              "      <th>annotations</th>\n",
              "    </tr>\n",
              "  </thead>\n",
              "  <tbody>\n",
              "    <tr>\n",
              "      <th>0</th>\n",
              "      <td>0</td>\n",
              "      <td>40258</td>\n",
              "      <td>0</td>\n",
              "      <td>0</td>\n",
              "      <td>0-0</td>\n",
              "      <td>[]</td>\n",
              "    </tr>\n",
              "    <tr>\n",
              "      <th>1</th>\n",
              "      <td>0</td>\n",
              "      <td>40258</td>\n",
              "      <td>1</td>\n",
              "      <td>1</td>\n",
              "      <td>0-1</td>\n",
              "      <td>[]</td>\n",
              "    </tr>\n",
              "    <tr>\n",
              "      <th>2</th>\n",
              "      <td>0</td>\n",
              "      <td>40258</td>\n",
              "      <td>2</td>\n",
              "      <td>2</td>\n",
              "      <td>0-2</td>\n",
              "      <td>[]</td>\n",
              "    </tr>\n",
              "    <tr>\n",
              "      <th>3</th>\n",
              "      <td>0</td>\n",
              "      <td>40258</td>\n",
              "      <td>3</td>\n",
              "      <td>3</td>\n",
              "      <td>0-3</td>\n",
              "      <td>[]</td>\n",
              "    </tr>\n",
              "    <tr>\n",
              "      <th>4</th>\n",
              "      <td>0</td>\n",
              "      <td>40258</td>\n",
              "      <td>4</td>\n",
              "      <td>4</td>\n",
              "      <td>0-4</td>\n",
              "      <td>[]</td>\n",
              "    </tr>\n",
              "  </tbody>\n",
              "</table>\n",
              "</div>\n",
              "      <button class=\"colab-df-convert\" onclick=\"convertToInteractive('df-f9926984-44a9-473f-852a-053760986fad')\"\n",
              "              title=\"Convert this dataframe to an interactive table.\"\n",
              "              style=\"display:none;\">\n",
              "        \n",
              "  <svg xmlns=\"http://www.w3.org/2000/svg\" height=\"24px\"viewBox=\"0 0 24 24\"\n",
              "       width=\"24px\">\n",
              "    <path d=\"M0 0h24v24H0V0z\" fill=\"none\"/>\n",
              "    <path d=\"M18.56 5.44l.94 2.06.94-2.06 2.06-.94-2.06-.94-.94-2.06-.94 2.06-2.06.94zm-11 1L8.5 8.5l.94-2.06 2.06-.94-2.06-.94L8.5 2.5l-.94 2.06-2.06.94zm10 10l.94 2.06.94-2.06 2.06-.94-2.06-.94-.94-2.06-.94 2.06-2.06.94z\"/><path d=\"M17.41 7.96l-1.37-1.37c-.4-.4-.92-.59-1.43-.59-.52 0-1.04.2-1.43.59L10.3 9.45l-7.72 7.72c-.78.78-.78 2.05 0 2.83L4 21.41c.39.39.9.59 1.41.59.51 0 1.02-.2 1.41-.59l7.78-7.78 2.81-2.81c.8-.78.8-2.07 0-2.86zM5.41 20L4 18.59l7.72-7.72 1.47 1.35L5.41 20z\"/>\n",
              "  </svg>\n",
              "      </button>\n",
              "      \n",
              "  <style>\n",
              "    .colab-df-container {\n",
              "      display:flex;\n",
              "      flex-wrap:wrap;\n",
              "      gap: 12px;\n",
              "    }\n",
              "\n",
              "    .colab-df-convert {\n",
              "      background-color: #E8F0FE;\n",
              "      border: none;\n",
              "      border-radius: 50%;\n",
              "      cursor: pointer;\n",
              "      display: none;\n",
              "      fill: #1967D2;\n",
              "      height: 32px;\n",
              "      padding: 0 0 0 0;\n",
              "      width: 32px;\n",
              "    }\n",
              "\n",
              "    .colab-df-convert:hover {\n",
              "      background-color: #E2EBFA;\n",
              "      box-shadow: 0px 1px 2px rgba(60, 64, 67, 0.3), 0px 1px 3px 1px rgba(60, 64, 67, 0.15);\n",
              "      fill: #174EA6;\n",
              "    }\n",
              "\n",
              "    [theme=dark] .colab-df-convert {\n",
              "      background-color: #3B4455;\n",
              "      fill: #D2E3FC;\n",
              "    }\n",
              "\n",
              "    [theme=dark] .colab-df-convert:hover {\n",
              "      background-color: #434B5C;\n",
              "      box-shadow: 0px 1px 3px 1px rgba(0, 0, 0, 0.15);\n",
              "      filter: drop-shadow(0px 1px 2px rgba(0, 0, 0, 0.3));\n",
              "      fill: #FFFFFF;\n",
              "    }\n",
              "  </style>\n",
              "\n",
              "      <script>\n",
              "        const buttonEl =\n",
              "          document.querySelector('#df-f9926984-44a9-473f-852a-053760986fad button.colab-df-convert');\n",
              "        buttonEl.style.display =\n",
              "          google.colab.kernel.accessAllowed ? 'block' : 'none';\n",
              "\n",
              "        async function convertToInteractive(key) {\n",
              "          const element = document.querySelector('#df-f9926984-44a9-473f-852a-053760986fad');\n",
              "          const dataTable =\n",
              "            await google.colab.kernel.invokeFunction('convertToInteractive',\n",
              "                                                     [key], {});\n",
              "          if (!dataTable) return;\n",
              "\n",
              "          const docLinkHtml = 'Like what you see? Visit the ' +\n",
              "            '<a target=\"_blank\" href=https://colab.research.google.com/notebooks/data_table.ipynb>data table notebook</a>'\n",
              "            + ' to learn more about interactive tables.';\n",
              "          element.innerHTML = '';\n",
              "          dataTable['output_type'] = 'display_data';\n",
              "          await google.colab.output.renderOutput(dataTable, element);\n",
              "          const docLink = document.createElement('div');\n",
              "          docLink.innerHTML = docLinkHtml;\n",
              "          element.appendChild(docLink);\n",
              "        }\n",
              "      </script>\n",
              "    </div>\n",
              "  </div>\n",
              "  "
            ],
            "text/plain": [
              "   video_id  sequence  video_frame  sequence_frame image_id annotations\n",
              "0         0     40258            0               0      0-0          []\n",
              "1         0     40258            1               1      0-1          []\n",
              "2         0     40258            2               2      0-2          []\n",
              "3         0     40258            3               3      0-3          []\n",
              "4         0     40258            4               4      0-4          []"
            ]
          },
          "metadata": {},
          "execution_count": 7
        }
      ]
    },
    {
      "cell_type": "code",
      "source": [
        "train.info()"
      ],
      "metadata": {
        "colab": {
          "base_uri": "https://localhost:8080/"
        },
        "id": "fYEuhjBPUhXZ",
        "outputId": "cbe98f6f-2eb1-4420-8772-4a031b763568"
      },
      "execution_count": 8,
      "outputs": [
        {
          "output_type": "stream",
          "name": "stdout",
          "text": [
            "<class 'pandas.core.frame.DataFrame'>\n",
            "RangeIndex: 23501 entries, 0 to 23500\n",
            "Data columns (total 6 columns):\n",
            " #   Column          Non-Null Count  Dtype \n",
            "---  ------          --------------  ----- \n",
            " 0   video_id        23501 non-null  int64 \n",
            " 1   sequence        23501 non-null  int64 \n",
            " 2   video_frame     23501 non-null  int64 \n",
            " 3   sequence_frame  23501 non-null  int64 \n",
            " 4   image_id        23501 non-null  object\n",
            " 5   annotations     23501 non-null  object\n",
            "dtypes: int64(4), object(2)\n",
            "memory usage: 1.1+ MB\n"
          ]
        }
      ]
    },
    {
      "cell_type": "code",
      "source": [
        "(train[train['video_id']==0]).info()"
      ],
      "metadata": {
        "colab": {
          "base_uri": "https://localhost:8080/"
        },
        "id": "Cy9WXfPQUlrc",
        "outputId": "61f488f0-055c-48ba-87fb-85e0ae1da271"
      },
      "execution_count": 9,
      "outputs": [
        {
          "output_type": "stream",
          "name": "stdout",
          "text": [
            "<class 'pandas.core.frame.DataFrame'>\n",
            "Int64Index: 6708 entries, 0 to 6707\n",
            "Data columns (total 6 columns):\n",
            " #   Column          Non-Null Count  Dtype \n",
            "---  ------          --------------  ----- \n",
            " 0   video_id        6708 non-null   int64 \n",
            " 1   sequence        6708 non-null   int64 \n",
            " 2   video_frame     6708 non-null   int64 \n",
            " 3   sequence_frame  6708 non-null   int64 \n",
            " 4   image_id        6708 non-null   object\n",
            " 5   annotations     6708 non-null   object\n",
            "dtypes: int64(4), object(2)\n",
            "memory usage: 366.8+ KB\n"
          ]
        }
      ]
    },
    {
      "cell_type": "code",
      "source": [
        "(train[train['video_id']==1]).info()"
      ],
      "metadata": {
        "colab": {
          "base_uri": "https://localhost:8080/"
        },
        "id": "1x1F1i6HVMn7",
        "outputId": "105d64c3-ffb0-4e3e-ebf0-7c71ce883842"
      },
      "execution_count": 10,
      "outputs": [
        {
          "output_type": "stream",
          "name": "stdout",
          "text": [
            "<class 'pandas.core.frame.DataFrame'>\n",
            "Int64Index: 8232 entries, 6708 to 14939\n",
            "Data columns (total 6 columns):\n",
            " #   Column          Non-Null Count  Dtype \n",
            "---  ------          --------------  ----- \n",
            " 0   video_id        8232 non-null   int64 \n",
            " 1   sequence        8232 non-null   int64 \n",
            " 2   video_frame     8232 non-null   int64 \n",
            " 3   sequence_frame  8232 non-null   int64 \n",
            " 4   image_id        8232 non-null   object\n",
            " 5   annotations     8232 non-null   object\n",
            "dtypes: int64(4), object(2)\n",
            "memory usage: 450.2+ KB\n"
          ]
        }
      ]
    },
    {
      "cell_type": "markdown",
      "source": [
        "video_0 has 6708 images, while video_1 and video_2 has respectively 8232 and 8561 images."
      ],
      "metadata": {
        "id": "leqrgj8mVBFR"
      }
    },
    {
      "cell_type": "code",
      "source": [
        "train.duplicated().sum()"
      ],
      "metadata": {
        "colab": {
          "base_uri": "https://localhost:8080/"
        },
        "id": "e4SIguLUVeeK",
        "outputId": "99a248d3-1f23-46e2-c995-f2e6c6d1fe50"
      },
      "execution_count": 11,
      "outputs": [
        {
          "output_type": "execute_result",
          "data": {
            "text/plain": [
              "0"
            ]
          },
          "metadata": {},
          "execution_count": 11
        }
      ]
    },
    {
      "cell_type": "markdown",
      "source": [
        "# Training Using YoloV5\n",
        "\n"
      ],
      "metadata": {
        "id": "cloL5B4PLqI9"
      }
    },
    {
      "cell_type": "code",
      "source": [
        "#import libraries\n",
        "import numpy as np\n",
        "from tqdm.notebook import tqdm\n",
        "tqdm.pandas()\n",
        "import pandas as pd\n",
        "import os\n",
        "import cv2\n",
        "import matplotlib.pyplot as plt\n",
        "import glob\n",
        "import shutil\n",
        "import sys\n",
        "sys.path.append('./')\n",
        "from joblib import Parallel, delayed\n",
        "from IPython.display import display"
      ],
      "metadata": {
        "id": "7zfooI7fi5Rh"
      },
      "execution_count": null,
      "outputs": []
    },
    {
      "cell_type": "code",
      "source": [
        ""
      ],
      "metadata": {
        "id": "fqiJLxqIXJsn"
      },
      "execution_count": null,
      "outputs": []
    },
    {
      "cell_type": "markdown",
      "source": [
        "# Detection\n",
        "\n",
        "Items"
      ],
      "metadata": {
        "id": "JmYv4PFrLqMl"
      }
    },
    {
      "cell_type": "code",
      "execution_count": null,
      "metadata": {
        "id": "XuilQ4TomOu6"
      },
      "outputs": [],
      "source": [
        ""
      ]
    },
    {
      "cell_type": "markdown",
      "source": [
        "# Validation"
      ],
      "metadata": {
        "id": "mKnujYEOZ75f"
      }
    },
    {
      "cell_type": "markdown",
      "source": [
        "# Submission and Conclusion\n",
        "\n",
        "*Items*"
      ],
      "metadata": {
        "id": "Ofrc0aYTYBjK"
      }
    },
    {
      "cell_type": "code",
      "source": [
        ""
      ],
      "metadata": {
        "id": "Xfy6_DXjYSCR"
      },
      "execution_count": null,
      "outputs": []
    }
  ]
}